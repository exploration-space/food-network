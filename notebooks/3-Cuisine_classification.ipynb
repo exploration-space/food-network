{
 "cells": [
  {
   "cell_type": "markdown",
   "metadata": {
    "_cell_guid": "0808840c-0623-4e53-bdac-6ed602e1f5b7",
    "_uuid": "f5832a1fac08e8dbd7392e7adb4f2dfabb6a368c"
   },
   "source": [
    "# [Cuisine Classification from Ingredients](https://www.kaggle.com/rahulsridhar2811/cuisine-classification-with-accuracy-78-88)\n",
    "\n",
    "### **Description:** The main purpose of this project is to classify cuisines based on Ingredients of the Recipe.\n",
    "\n",
    "\n",
    "The steps followed are as follows:\n",
    "* Step-1: Download dataset from [here](https://www.kaggle.com/c/whats-cooking/data), store it in dictionary and convert it to dataframe.\n",
    "* Step-2: Feature Selection:\n",
    "  * Removal of punctuation, digits, content inside parenthesis using Regex Expression\n",
    "  * Remove brand names using Regex Expression\n",
    "  * Convert to lower case and Remove stop words using Regex Expression\n",
    "  * Use Porter Stemmer Algorithm\n",
    "* Step-3: Encoded Cuisine column using Label Encoder of sklearn.\n",
    "* Step-4: Convert the ingredients column after feature selection into TFIDF Matrix\n",
    "* Step-5: Split the data(X-TFIDF Matrix, Y-Label Encoded value of Cuisine into training and test data(80:20).\n",
    "* Step-6: Use Different Machine Learning Algorithm to get best accuracy. \n"
   ]
  },
  {
   "cell_type": "code",
   "execution_count": 1,
   "metadata": {},
   "outputs": [
    {
     "name": "stderr",
     "output_type": "stream",
     "text": [
      "[nltk_data] Downloading package punkt to /home/rsouza/nltk_data...\n",
      "[nltk_data]   Package punkt is already up-to-date!\n",
      "[nltk_data] Error loading word_tokenize: Package 'word_tokenize' not\n",
      "[nltk_data]     found in index\n"
     ]
    },
    {
     "data": {
      "text/plain": [
       "False"
      ]
     },
     "execution_count": 1,
     "metadata": {},
     "output_type": "execute_result"
    }
   ],
   "source": [
    "import json\n",
    "import re\n",
    "\n",
    "import pandas as pd\n",
    "import numpy as np\n",
    "\n",
    "import nltk\n",
    "from nltk.corpus import stopwords\n",
    "from nltk.tokenize import word_tokenize\n",
    "from nltk.tokenize import sent_tokenize\n",
    "from nltk.stem import PorterStemmer\n",
    "\n",
    "from sklearn import svm\n",
    "from sklearn.svm import SVC\n",
    "from sklearn import datasets\n",
    "from sklearn.model_selection import StratifiedKFold\n",
    "from sklearn.model_selection import GridSearchCV\n",
    "from sklearn.feature_extraction.text import TfidfVectorizer\n",
    "from sklearn import preprocessing\n",
    "from sklearn.impute import SimpleImputer\n",
    "from sklearn.model_selection import train_test_split\n",
    "from sklearn.neighbors import KNeighborsClassifier\n",
    "from sklearn.metrics import accuracy_score\n",
    "from sklearn.naive_bayes import MultinomialNB\n",
    "from sklearn.linear_model import LogisticRegression\n",
    "\n",
    "nltk.download('punkt')\n",
    "nltk.download('word_tokenize')"
   ]
  },
  {
   "cell_type": "code",
   "execution_count": 2,
   "metadata": {
    "_cell_guid": "732879a7-3f1f-4cee-9b14-4d8e599e1c21",
    "_uuid": "b443c70b3803ec690ae3c6329b52bc29bfb548d8"
   },
   "outputs": [
    {
     "name": "stdout",
     "output_type": "stream",
     "text": [
      "{'id': 10259, 'cuisine': 'greek', 'ingredients': ['romaine lettuce', 'black olives', 'grape tomatoes', 'garlic', 'pepper', 'purple onion', 'seasoning', 'garbanzo beans', 'feta cheese crumbles']}\n"
     ]
    }
   ],
   "source": [
    "with open('../data/yummly/train.json', 'r') as train_file:\n",
    "    dict_train = json.load(train_file)\n",
    "\n",
    "print(dict_train[0])"
   ]
  },
  {
   "cell_type": "code",
   "execution_count": 3,
   "metadata": {
    "_cell_guid": "fd4f0ca1-d331-4c63-bd95-b5bce09422f3",
    "_uuid": "4a692aec66da67390642ddc996d48c7fdd0e7671"
   },
   "outputs": [
    {
     "data": {
      "text/plain": [
       "39774"
      ]
     },
     "execution_count": 3,
     "metadata": {},
     "output_type": "execute_result"
    }
   ],
   "source": [
    "len(dict_train)"
   ]
  },
  {
   "cell_type": "code",
   "execution_count": 4,
   "metadata": {
    "_cell_guid": "60a1b834-fab2-4de1-9a93-e78eb84e4665",
    "_uuid": "7838143a515b5b18433c8c393b3255aa8e4e7d5a"
   },
   "outputs": [
    {
     "data": {
      "text/plain": [
       "['romaine lettuce',\n",
       " 'black olives',\n",
       " 'grape tomatoes',\n",
       " 'garlic',\n",
       " 'pepper',\n",
       " 'purple onion',\n",
       " 'seasoning',\n",
       " 'garbanzo beans',\n",
       " 'feta cheese crumbles']"
      ]
     },
     "execution_count": 4,
     "metadata": {},
     "output_type": "execute_result"
    }
   ],
   "source": [
    "dict_train[0]['ingredients']"
   ]
  },
  {
   "cell_type": "code",
   "execution_count": 5,
   "metadata": {
    "_cell_guid": "e94bd79b-07f6-4a3b-9f9d-f78c867e7123",
    "_uuid": "4e89912efc1091a2b892844156565bac6e1faf24"
   },
   "outputs": [],
   "source": [
    "id_ = []\n",
    "cuisine = []\n",
    "ingredients = []\n",
    "for i in range(len(dict_train)):\n",
    "    id_.append(dict_train[i]['id'])\n",
    "    cuisine.append(dict_train[i]['cuisine'])\n",
    "    ingredients.append(dict_train[i]['ingredients'])"
   ]
  },
  {
   "cell_type": "code",
   "execution_count": 6,
   "metadata": {
    "_cell_guid": "d6c81d23-40e2-40b4-835e-4edc2331a10a",
    "_uuid": "c23631657ff499e11e52f613cfdb2e9f1b37b79b"
   },
   "outputs": [
    {
     "name": "stdout",
     "output_type": "stream",
     "text": [
      "      id      cuisine                                        ingredients\n",
      "0  10259        greek  [romaine lettuce, black olives, grape tomatoes...\n",
      "1  25693  southern_us  [plain flour, ground pepper, salt, tomatoes, g...\n",
      "2  20130     filipino  [eggs, pepper, salt, mayonaise, cooking oil, g...\n",
      "3  22213       indian                [water, vegetable oil, wheat, salt]\n",
      "4  13162       indian  [black pepper, shallots, cornflour, cayenne pe...\n"
     ]
    }
   ],
   "source": [
    "df = pd.DataFrame({'id':id_, \n",
    "                   'cuisine':cuisine, \n",
    "                   'ingredients':ingredients})\n",
    "print(df.head(5))"
   ]
  },
  {
   "cell_type": "code",
   "execution_count": 7,
   "metadata": {
    "_cell_guid": "7f8edf94-4ab9-46b2-8f0f-68eea75239c5",
    "_uuid": "f4a81619afafaaffcf6cced89d486afa8cbab064"
   },
   "outputs": [
    {
     "data": {
      "text/plain": [
       "italian         7838\n",
       "mexican         6438\n",
       "southern_us     4320\n",
       "indian          3003\n",
       "chinese         2673\n",
       "french          2646\n",
       "cajun_creole    1546\n",
       "thai            1539\n",
       "japanese        1423\n",
       "greek           1175\n",
       "spanish          989\n",
       "korean           830\n",
       "vietnamese       825\n",
       "moroccan         821\n",
       "british          804\n",
       "filipino         755\n",
       "irish            667\n",
       "jamaican         526\n",
       "russian          489\n",
       "brazilian        467\n",
       "Name: cuisine, dtype: int64"
      ]
     },
     "execution_count": 7,
     "metadata": {},
     "output_type": "execute_result"
    }
   ],
   "source": [
    "df['cuisine'].value_counts()"
   ]
  },
  {
   "cell_type": "code",
   "execution_count": 8,
   "metadata": {
    "_cell_guid": "1bb39d9c-39b7-447d-b83e-d0e38bddbb9b",
    "_uuid": "03c0e81a1e118dee98e46b016cc382252aba5169"
   },
   "outputs": [],
   "source": [
    "new = []\n",
    "for s in df['ingredients']:\n",
    "    s = ' '.join(s)\n",
    "    new.append(s)"
   ]
  },
  {
   "cell_type": "code",
   "execution_count": 9,
   "metadata": {
    "_cell_guid": "ab728dbe-b6ea-4423-82e6-a8d818a81338",
    "_uuid": "04a39cce12592b710112f699c5ce28e50abc0de2"
   },
   "outputs": [],
   "source": [
    "df['ing'] = new"
   ]
  },
  {
   "cell_type": "code",
   "execution_count": 10,
   "metadata": {
    "_cell_guid": "73c12624-d2c9-4ef4-ac55-887e37e85ee6",
    "_uuid": "f4f47db53e58dcbf7c895075180595502493462f"
   },
   "outputs": [
    {
     "name": "stdout",
     "output_type": "stream",
     "text": [
      "      id      cuisine                                        ingredients  \\\n",
      "0  10259        greek  [romaine lettuce, black olives, grape tomatoes...   \n",
      "1  25693  southern_us  [plain flour, ground pepper, salt, tomatoes, g...   \n",
      "2  20130     filipino  [eggs, pepper, salt, mayonaise, cooking oil, g...   \n",
      "3  22213       indian                [water, vegetable oil, wheat, salt]   \n",
      "4  13162       indian  [black pepper, shallots, cornflour, cayenne pe...   \n",
      "5   6602     jamaican  [plain flour, sugar, butter, eggs, fresh ginge...   \n",
      "6  42779      spanish  [olive oil, salt, medium shrimp, pepper, garli...   \n",
      "7   3735      italian  [sugar, pistachio nuts, white almond bark, flo...   \n",
      "8  16903      mexican  [olive oil, purple onion, fresh pineapple, por...   \n",
      "9  12734      italian  [chopped tomatoes, fresh basil, garlic, extra-...   \n",
      "\n",
      "                                                 ing  \\\n",
      "0  romaine lettuce black olives grape tomatoes ga...   \n",
      "1  plain flour ground pepper salt tomatoes ground...   \n",
      "2  eggs pepper salt mayonaise cooking oil green c...   \n",
      "3                     water vegetable oil wheat salt   \n",
      "4  black pepper shallots cornflour cayenne pepper...   \n",
      "5  plain flour sugar butter eggs fresh ginger roo...   \n",
      "6  olive oil salt medium shrimp pepper garlic cho...   \n",
      "7  sugar pistachio nuts white almond bark flour v...   \n",
      "8  olive oil purple onion fresh pineapple pork po...   \n",
      "9  chopped tomatoes fresh basil garlic extra-virg...   \n",
      "\n",
      "                                             ing_mod  \n",
      "0  romain lettuc black oliv grape tomato garlic p...  \n",
      "1  plain flour ground pepper salt tomato ground b...  \n",
      "2  egg pepper salt mayonais cook oil green chili ...  \n",
      "3                         water veget oil wheat salt  \n",
      "4  black pepper shallot cornflour cayenn pepper o...  \n",
      "5  plain flour sugar butter egg fresh ginger root...  \n",
      "6  oliv oil salt medium shrimp pepper garlic chop...  \n",
      "7  sugar pistachio nut white almond bark flour va...  \n",
      "8  oliv oil purpl onion fresh pineappl pork pobla...  \n",
      "9  chop tomato fresh basil garlic extravirgin oli...  \n"
     ]
    }
   ],
   "source": [
    "ps = PorterStemmer()\n",
    "l=[]\n",
    "for s in df['ing']:\n",
    "    \n",
    "    #Remove punctuations\n",
    "    s=re.sub(r'[^\\w\\s]','',s)\n",
    "    \n",
    "    #Remove Digits\n",
    "    s=re.sub(r\"(\\d)\", \"\", s)\n",
    "    \n",
    "    #Remove content inside paranthesis\n",
    "    s=re.sub(r'\\([^)]*\\)', '', s)\n",
    "    \n",
    "    #Remove Brand Name\n",
    "    s=re.sub(u'\\w*\\u2122', '', s)\n",
    "    \n",
    "    #Convert to lowercase\n",
    "    s=s.lower()\n",
    "    \n",
    "    #Remove Stop Words\n",
    "    stop_words = set(stopwords.words('english'))\n",
    "    word_tokens = word_tokenize(s)\n",
    "    filtered_sentence = [w for w in word_tokens if not w in stop_words]\n",
    "    filtered_sentence = []\n",
    "    for w in word_tokens:\n",
    "        if w not in stop_words:\n",
    "            filtered_sentence.append(w)\n",
    "    s=' '.join(filtered_sentence)\n",
    "    \n",
    "    #Remove low-content adjectives\n",
    "    \n",
    "    \n",
    "    #Porter Stemmer Algorithm\n",
    "    words = word_tokenize(s)\n",
    "    word_ps=[]\n",
    "    for w in words:\n",
    "        word_ps.append(ps.stem(w))\n",
    "    s=' '.join(word_ps)\n",
    "    \n",
    "    l.append(s)\n",
    "df['ing_mod']=l\n",
    "print(df.head(10))"
   ]
  },
  {
   "cell_type": "code",
   "execution_count": 11,
   "metadata": {
    "_cell_guid": "f26d8022-94c5-4d1b-9ded-d399d514f0d1",
    "_uuid": "5e9049ff1cd3b2ecd01c132241f3f4582d18a1c1"
   },
   "outputs": [
    {
     "name": "stdout",
     "output_type": "stream",
     "text": [
      "  (0, 645)\t0.33593035910361563\n",
      "  (0, 457)\t0.15275671094077872\n",
      "  (0, 839)\t0.3187972762529108\n",
      "  (0, 151)\t0.20926361996623533\n",
      "  (0, 948)\t0.40698769941435575\n",
      "  (0, 2129)\t0.2353444283083364\n",
      "  (0, 1678)\t0.11254514115347572\n",
      "  (0, 1936)\t0.25074218315906177\n",
      "  (0, 1788)\t0.10459549609170087\n",
      "  (0, 953)\t0.11042361722588336\n",
      "  (0, 2454)\t0.14902078223349116\n",
      "  (0, 1026)\t0.35837089683191997\n",
      "  (0, 1675)\t0.14038392852393708\n",
      "  (0, 207)\t0.14748076920025835\n",
      "  (0, 1350)\t0.2791135588220773\n",
      "  (0, 2038)\t0.35874236830471423\n",
      "  (1, 1667)\t0.1171826390275072\n",
      "  (1, 2545)\t0.21067385712038839\n",
      "  (1, 1525)\t0.2131293756857962\n",
      "  (1, 1483)\t0.4041016783959638\n",
      "  (1, 591)\t0.22105888852639313\n",
      "  (1, 2640)\t0.2786478197048322\n",
      "  (1, 1043)\t0.18615449107858506\n",
      "  (1, 778)\t0.18468552446921774\n",
      "  (1, 2438)\t0.2735433360467422\n",
      "  :\t:\n",
      "  (39772, 778)\t0.08974390709815865\n",
      "  (39772, 2087)\t0.05279966977386053\n",
      "  (39772, 884)\t0.08958350385905274\n",
      "  (39772, 953)\t0.06205511227647933\n",
      "  (39773, 426)\t0.2653103714057182\n",
      "  (39773, 2037)\t0.41387002304539366\n",
      "  (39773, 169)\t0.22828633616316715\n",
      "  (39773, 478)\t0.249897595467832\n",
      "  (39773, 1683)\t0.2477522539184367\n",
      "  (39773, 749)\t0.18686519010430078\n",
      "  (39773, 2604)\t0.18289116410003706\n",
      "  (39773, 1194)\t0.2763291162247339\n",
      "  (39773, 519)\t0.19774479330586056\n",
      "  (39773, 501)\t0.184479784592656\n",
      "  (39773, 911)\t0.1416758399434736\n",
      "  (39773, 2351)\t0.15291387414255558\n",
      "  (39773, 481)\t0.19277716942994927\n",
      "  (39773, 1043)\t0.34856715647722075\n",
      "  (39773, 2087)\t0.10172835924969952\n",
      "  (39773, 1053)\t0.14167071979103033\n",
      "  (39773, 1678)\t0.12185775701672978\n",
      "  (39773, 1788)\t0.22650062751986103\n",
      "  (39773, 953)\t0.1195606863069318\n",
      "  (39773, 2454)\t0.16135159710793925\n",
      "  (39773, 207)\t0.15968415476362366\n"
     ]
    }
   ],
   "source": [
    "vectorizer = TfidfVectorizer()\n",
    "X = vectorizer.fit_transform(df['ing_mod'])\n",
    "\n",
    "print(X)\n",
    "#print(vectorizer.get_feature_names())"
   ]
  },
  {
   "cell_type": "code",
   "execution_count": 12,
   "metadata": {
    "_cell_guid": "37935fcd-fc13-498a-8b2b-6e8f2e5f3efc",
    "_uuid": "378ccbd89744d27e15838004fc752223de6be635"
   },
   "outputs": [
    {
     "data": {
      "text/plain": [
       "39774"
      ]
     },
     "execution_count": 12,
     "metadata": {},
     "output_type": "execute_result"
    }
   ],
   "source": [
    "len(new)"
   ]
  },
  {
   "cell_type": "code",
   "execution_count": 13,
   "metadata": {
    "_cell_guid": "7ae86de3-2707-4f59-a8b2-13756f4c28c0",
    "_uuid": "e84687a84fafb89e86022eda9109b59081f4ca39"
   },
   "outputs": [
    {
     "data": {
      "text/plain": [
       "str"
      ]
     },
     "execution_count": 13,
     "metadata": {},
     "output_type": "execute_result"
    }
   ],
   "source": [
    "type(df['ing'][0])"
   ]
  },
  {
   "cell_type": "code",
   "execution_count": 14,
   "metadata": {
    "_cell_guid": "891aedd5-4b31-43e4-b2bd-862a49739e4f",
    "_uuid": "f5e4e996aea719694071d556f1909f9a7f59a9a9"
   },
   "outputs": [
    {
     "name": "stdout",
     "output_type": "stream",
     "text": [
      " cool col coo\n"
     ]
    }
   ],
   "source": [
    "s='1 1cool co1l coo1'\n",
    "s=re.sub(r\"(\\d)\", \"\", s)\n",
    "print(s)"
   ]
  },
  {
   "cell_type": "code",
   "execution_count": 15,
   "metadata": {
    "_cell_guid": "0f7e6aa2-aae3-46ff-8df9-0d14df85962b",
    "_uuid": "47cd632d8177821419f2b4d4f47485f4029b650a"
   },
   "outputs": [
    {
     "name": "stdout",
     "output_type": "stream",
     "text": [
      "hi 1\n"
     ]
    }
   ],
   "source": [
    "s='hi 1(bye)'\n",
    "s=re.sub(r'\\([^)]*\\)', '', s)\n",
    "print(s)"
   ]
  },
  {
   "cell_type": "code",
   "execution_count": 16,
   "metadata": {
    "_cell_guid": "016f7001-184a-4629-a69d-88e2ab5e45a7",
    "_uuid": "015167044ad112a5150d4169286e4e0b090f1040"
   },
   "outputs": [
    {
     "name": "stdout",
     "output_type": "stream",
     "text": [
      "hi 1  hi\n"
     ]
    }
   ],
   "source": [
    "s='hi 1 Marvel™ hi'\n",
    "s=re.sub(u'\\w*\\u2122', '', s)\n",
    "print(s)"
   ]
  },
  {
   "cell_type": "code",
   "execution_count": 17,
   "metadata": {
    "_cell_guid": "bd5b3998-ab1f-4b7e-89e7-327e42af1f20",
    "_uuid": "28234951e6e83ccd13b1286bf8fb9cb66380d58c"
   },
   "outputs": [
    {
     "name": "stdout",
     "output_type": "stream",
     "text": [
      "I love phone, super fast 'much new cool things jelly bean....recently I'seen bugs.\n"
     ]
    }
   ],
   "source": [
    "s=\"I love this phone, its super fast and there's so much new and cool things with jelly bean....but of recently I've seen some bugs.\"\n",
    "pattern = re.compile(r'\\b(' + r'|'.join(stopwords.words('english')) + r')\\b\\s*')\n",
    "s = pattern.sub('', s)\n",
    "print(s)"
   ]
  },
  {
   "cell_type": "code",
   "execution_count": 19,
   "metadata": {
    "_cell_guid": "ea1651cf-073f-4b75-8981-291ea75a9ad6",
    "_uuid": "1ff6174976c8bd546288b984b0dbd57a24021274"
   },
   "outputs": [
    {
     "name": "stdout",
     "output_type": "stream",
     "text": [
      "['This', 'is', 'a', 'sample', 'sentence', ',', 'showing', 'off', 'the', 'stop', 'words', 'filtration', '.']\n",
      "['This', 'sample', 'sentence', ',', 'showing', 'stop', 'words', 'filtration', '.']\n"
     ]
    }
   ],
   "source": [
    "example_sent = \"This is a sample sentence, showing off the stop words filtration.\"\n",
    "\n",
    "stop_words = set(stopwords.words('english'))\n",
    "\n",
    "word_tokens = word_tokenize(example_sent)\n",
    "\n",
    "filtered_sentence = [w for w in word_tokens if not w in stop_words]\n",
    "\n",
    "filtered_sentence = []\n",
    "\n",
    "for w in word_tokens:\n",
    "    if w not in stop_words:\n",
    "        filtered_sentence.append(w)\n",
    "\n",
    "print(word_tokens)\n",
    "print(filtered_sentence)"
   ]
  },
  {
   "cell_type": "code",
   "execution_count": 20,
   "metadata": {
    "_cell_guid": "b28a28ed-5ff6-4499-b480-5afb0179699b",
    "_uuid": "e6cd4548fb410c2c40e5e042e6112f175af036a7"
   },
   "outputs": [
    {
     "data": {
      "text/plain": [
       "'love phone, super fast much cool jelly bean....but recently bugs.'"
      ]
     },
     "execution_count": 20,
     "metadata": {},
     "output_type": "execute_result"
    }
   ],
   "source": [
    "\"love phone, super fast much cool jelly bean....but recently bugs.\""
   ]
  },
  {
   "cell_type": "code",
   "execution_count": 21,
   "metadata": {
    "_cell_guid": "64e801e1-23a4-4a9a-a431-717386db64f2",
    "_uuid": "acf0c9a972156fd2466599181730a00c3f0a8b24"
   },
   "outputs": [
    {
     "name": "stdout",
     "output_type": "stream",
     "text": [
      "['This', 'is', 'a', 'sample', 'sentence', ',', 'showing', 'off', 'the', 'stop', 'words', 'filtration', '.']\n",
      "['This', 'sample', 'sentence', ',', 'showing', 'stop', 'words', 'filtration', '.']\n"
     ]
    }
   ],
   "source": [
    "s = \"This is a sample sentence, showing off the stop words filtration.\"\n",
    "\n",
    "stop_words = set(stopwords.words('english'))\n",
    "word_tokens = word_tokenize(example_sent)\n",
    "filtered_sentence = [w for w in word_tokens if not w in stop_words]\n",
    "filtered_sentence = []\n",
    "\n",
    "for w in word_tokens:\n",
    "    if w not in stop_words:\n",
    "        filtered_sentence.append(w)\n",
    "\n",
    "print(word_tokens)\n",
    "print(filtered_sentence)"
   ]
  },
  {
   "cell_type": "code",
   "execution_count": 22,
   "metadata": {
    "_cell_guid": "788744e8-e0ac-4821-b395-b5706cb47e93",
    "_uuid": "133310389962530b4ecf10dd570e5b7b7b0c12c4"
   },
   "outputs": [],
   "source": [
    "ps = PorterStemmer()"
   ]
  },
  {
   "cell_type": "code",
   "execution_count": 23,
   "metadata": {
    "_cell_guid": "dc80e6a7-2c70-45aa-8cb4-a29c8f669b74",
    "_uuid": "b2fe96fcd533d59748728d7e5de4b2cf592ff3b6"
   },
   "outputs": [
    {
     "name": "stdout",
     "output_type": "stream",
     "text": [
      "This is a sample sentence, showing off the stop words filtration.\n"
     ]
    }
   ],
   "source": [
    "new_text = \"It is important to by very pythonly while you are pythoning with python. All pythoners have pythoned poorly at least once.\"\n",
    "\n",
    "print(s)"
   ]
  },
  {
   "cell_type": "code",
   "execution_count": 24,
   "metadata": {
    "_cell_guid": "1bef6497-ef63-463a-9ed5-5e92d3808778",
    "_uuid": "3b1d800fa26836fb675836bc0729b90aa6ce051c"
   },
   "outputs": [],
   "source": [
    "\n",
    "le = preprocessing.LabelEncoder()\n",
    "le.fit(df['cuisine'])\n",
    "df['cuisine']=le.transform(df['cuisine']) "
   ]
  },
  {
   "cell_type": "code",
   "execution_count": 25,
   "metadata": {
    "_cell_guid": "86c06f82-75c4-44d5-8fc5-33985e68b951",
    "_uuid": "cd8bb187e8c479604a37e911e13106e1a6afd08b"
   },
   "outputs": [
    {
     "data": {
      "text/plain": [
       "9     7838\n",
       "13    6438\n",
       "16    4320\n",
       "7     3003\n",
       "3     2673\n",
       "5     2646\n",
       "2     1546\n",
       "18    1539\n",
       "11    1423\n",
       "6     1175\n",
       "17     989\n",
       "12     830\n",
       "19     825\n",
       "14     821\n",
       "1      804\n",
       "4      755\n",
       "8      667\n",
       "10     526\n",
       "15     489\n",
       "0      467\n",
       "Name: cuisine, dtype: int64"
      ]
     },
     "execution_count": 25,
     "metadata": {},
     "output_type": "execute_result"
    }
   ],
   "source": [
    "df['cuisine'].value_counts()"
   ]
  },
  {
   "cell_type": "code",
   "execution_count": 26,
   "metadata": {
    "_cell_guid": "602bc8c9-ed5f-4895-bb92-fb1595a8f4a8",
    "_uuid": "a69d5bb9d31faa95a5cf87f0ab57fce22b9cbaa5"
   },
   "outputs": [],
   "source": [
    "cuisine_map={'0':'brazilian', '1':'british', '2':'cajun_creole', '3':'chinese', '4':'filipino', '5':'french', '6':'greek', '7':'indian', '8':'irish', '9':'italian', '10':'jamaican', '11':'japanese', '12':'korean', '13':'mexican', '14':'moroccan', '15':'russian', '16':'southern_us', '17':'spanish', '18':'thai', '19':'vietnamese'}"
   ]
  },
  {
   "cell_type": "code",
   "execution_count": 27,
   "metadata": {
    "_cell_guid": "b7f47bc0-1cfe-4e6f-8ada-ad339d243c0a",
    "_uuid": "b0037bd0ee13647084d2db75e8807c9d02bdc089"
   },
   "outputs": [],
   "source": [
    "Y=[]\n",
    "Y = df['cuisine']\n"
   ]
  },
  {
   "cell_type": "code",
   "execution_count": 28,
   "metadata": {
    "_cell_guid": "4ed68b4c-63ae-4c3c-8504-2d20e6826516",
    "_uuid": "195883e23eaef0c376581402863d8863eaf6f30d"
   },
   "outputs": [],
   "source": [
    "X_train, X_test, y_train, y_test = train_test_split(X, Y, test_size = 0.2, random_state = 100)"
   ]
  },
  {
   "cell_type": "code",
   "execution_count": 29,
   "metadata": {
    "_cell_guid": "7b430622-c80f-4a21-9e40-8eb953a54c55",
    "_uuid": "7a0931718abf9058d2738063edf92e3da741842d"
   },
   "outputs": [
    {
     "name": "stdout",
     "output_type": "stream",
     "text": [
      "Accuracy is  70.18227529855436 % for K-Value: 1\n",
      "Accuracy is  68.4098051539912 % for K-Value: 2\n",
      "Accuracy is  71.69076052796983 % for K-Value: 3\n",
      "Accuracy is  72.84726587052168 % for K-Value: 4\n",
      "Accuracy is  73.32495285983657 % for K-Value: 5\n",
      "Accuracy is  73.99120050282842 % for K-Value: 6\n",
      "Accuracy is  74.19233186675046 % for K-Value: 7\n",
      "Accuracy is  74.51917033312382 % for K-Value: 8\n",
      "Accuracy is  74.69516027655563 % for K-Value: 9\n",
      "Accuracy is  74.46888749214331 % for K-Value: 10\n",
      "Accuracy is  74.78315524827153 % for K-Value: 11\n",
      "Accuracy is  74.70773098680075 % for K-Value: 12\n",
      "Accuracy is  74.56945317410434 % for K-Value: 13\n",
      "Accuracy is  74.46888749214331 % for K-Value: 14\n",
      "Accuracy is  74.73287240729101 % for K-Value: 15\n",
      "Accuracy is  74.72030169704588 % for K-Value: 16\n",
      "Accuracy is  74.7705845380264 % for K-Value: 17\n",
      "Accuracy is  74.6825895663105 % for K-Value: 18\n",
      "Accuracy is  74.49402891263355 % for K-Value: 19\n",
      "Accuracy is  74.55688246385921 % for K-Value: 20\n",
      "Accuracy is  74.46888749214331 % for K-Value: 21\n",
      "Accuracy is  74.26775612822124 % for K-Value: 22\n",
      "Accuracy is  74.2928975487115 % for K-Value: 23\n",
      "Accuracy is  74.34318038969202 % for K-Value: 24\n",
      "Accuracy is  74.39346323067252 % for K-Value: 25\n"
     ]
    }
   ],
   "source": [
    "for K in range(25):\n",
    "    K_value = K+1\n",
    "    neigh = KNeighborsClassifier(n_neighbors = K_value, weights='uniform', algorithm='auto')\n",
    "    neigh.fit(X_train, y_train) \n",
    "    y_pred = neigh.predict(X_test)\n",
    "    print(\"Accuracy is \", accuracy_score(y_test,y_pred)*100,\"% for K-Value:\",K_value)\n"
   ]
  },
  {
   "cell_type": "code",
   "execution_count": 30,
   "metadata": {
    "_cell_guid": "eeceaa15-0ac7-4e34-9d44-3fb48ca0c225",
    "_uuid": "826ca2e2fe61eaa193068862d4cc81bc33977983"
   },
   "outputs": [
    {
     "name": "stdout",
     "output_type": "stream",
     "text": [
      "Accuracy is  74.78315524827153 % for K-Value:11\n"
     ]
    }
   ],
   "source": [
    "#Implement KNN(So we take K value to be 11)\n",
    "neigh = KNeighborsClassifier(n_neighbors = 11, weights='uniform', algorithm='auto')\n",
    "neigh.fit(X_train, y_train) \n",
    "y_pred = neigh.predict(X_test)\n",
    "print(\"Accuracy is \", accuracy_score(y_test,y_pred)*100,\"% for K-Value:11\")"
   ]
  },
  {
   "cell_type": "code",
   "execution_count": 31,
   "metadata": {
    "_cell_guid": "70896557-3b1d-4824-8df6-7f9fd5661cef",
    "_uuid": "38950d6479ecc9b4a3dd6da3abd61f2e2a638859"
   },
   "outputs": [
    {
     "name": "stdout",
     "output_type": "stream",
     "text": [
      "Best score for data1: 0.7817028205469374\n",
      "Best C: 1\n",
      "Best Kernel: linear\n",
      "Best Gamma: scale\n"
     ]
    }
   ],
   "source": [
    "#Implement Grid Serch for best Gamma, C and Selection between rbf and linear kernel\n",
    "\n",
    "parameter_candidates = [\n",
    "  {'C': [1, 10, 100, 1000], 'kernel': ['linear']},\n",
    "  {'C': [1, 10, 100, 1000], 'gamma': [0.001, 0.0001], 'kernel': ['rbf']},\n",
    "]\n",
    "clf = GridSearchCV(estimator=svm.SVC(), param_grid=parameter_candidates, n_jobs=-1)\n",
    "clf.fit(X_train, y_train)   \n",
    "print('Best score for data1:', clf.best_score_) \n",
    "print('Best C:',clf.best_estimator_.C) \n",
    "print('Best Kernel:',clf.best_estimator_.kernel)\n",
    "print('Best Gamma:',clf.best_estimator_.gamma)"
   ]
  },
  {
   "cell_type": "code",
   "execution_count": 32,
   "metadata": {
    "_cell_guid": "6bb5187d-18dd-43d8-b754-dce1a5ae8342",
    "_uuid": "33b3d0ec9327f4d8cfac6db04a97594395f4bc7c"
   },
   "outputs": [
    {
     "name": "stdout",
     "output_type": "stream",
     "text": [
      "78.88120678818353\n"
     ]
    }
   ],
   "source": [
    "#OVA SVM(Grid Search Results: Kernel - Linear, C - 1, Gamma - Auto)\n",
    "\n",
    "lin_clf = svm.LinearSVC(C=1)\n",
    "lin_clf.fit(X_train, y_train)\n",
    "y_pred=lin_clf.predict(X_test)\n",
    "print(accuracy_score(y_test,y_pred)*100)"
   ]
  },
  {
   "cell_type": "code",
   "execution_count": 33,
   "metadata": {
    "_cell_guid": "993be91c-7ac8-4a35-9222-25d48d6817ee",
    "_uuid": "9bad365b9f57bbde7cd0895835737950ed7e5a8e"
   },
   "outputs": [
    {
     "name": "stdout",
     "output_type": "stream",
     "text": [
      "78.80578252671276\n"
     ]
    },
    {
     "name": "stderr",
     "output_type": "stream",
     "text": [
      "/home/rsouza/Documents/envs/python_env/lib/python3.6/site-packages/sklearn/svm/_base.py:977: ConvergenceWarning: Liblinear failed to converge, increase the number of iterations.\n",
      "  \"the number of iterations.\", ConvergenceWarning)\n"
     ]
    }
   ],
   "source": [
    "#SVM by Crammer(Grid Search Results: Gamma - , C - )\n",
    "lin_clf = svm.LinearSVC(C=1.0, multi_class='crammer_singer')\n",
    "lin_clf.fit(X_train, y_train)\n",
    "y_pred=lin_clf.predict(X_test)\n",
    "print(accuracy_score(y_test,y_pred)*100)"
   ]
  },
  {
   "cell_type": "code",
   "execution_count": 34,
   "metadata": {
    "_cell_guid": "b9b49750-5f0d-4f90-8bf1-d438deeaaad0",
    "_uuid": "b8ced1ba840d25079e6f686e13a2d48a35965011"
   },
   "outputs": [
    {
     "name": "stdout",
     "output_type": "stream",
     "text": [
      "66.77561282212446\n"
     ]
    }
   ],
   "source": [
    "#Implementing OVA Naive Bayes\n",
    "\n",
    "clf = MultinomialNB().fit(X_train, y_train)\n",
    "y_pred = clf.predict(X_test)\n",
    "print(accuracy_score(y_test,y_pred)*100)"
   ]
  },
  {
   "cell_type": "code",
   "execution_count": 35,
   "metadata": {
    "_cell_guid": "228beae2-e285-4ed1-89e1-78324e5cbd67",
    "_uuid": "7150e3974c94ac8f58563d70feaa14fc5df84721"
   },
   "outputs": [
    {
     "name": "stdout",
     "output_type": "stream",
     "text": [
      "78.22752985543683\n"
     ]
    },
    {
     "name": "stderr",
     "output_type": "stream",
     "text": [
      "/home/rsouza/Documents/envs/python_env/lib/python3.6/site-packages/sklearn/linear_model/_logistic.py:764: ConvergenceWarning: lbfgs failed to converge (status=1):\n",
      "STOP: TOTAL NO. of ITERATIONS REACHED LIMIT.\n",
      "\n",
      "Increase the number of iterations (max_iter) or scale the data as shown in:\n",
      "    https://scikit-learn.org/stable/modules/preprocessing.html\n",
      "Please also refer to the documentation for alternative solver options:\n",
      "    https://scikit-learn.org/stable/modules/linear_model.html#logistic-regression\n",
      "  extra_warning_msg=_LOGISTIC_SOLVER_CONVERGENCE_MSG)\n"
     ]
    }
   ],
   "source": [
    "#Implementing OVA Logistic Regerssion\n",
    "\n",
    "logisticRegr = LogisticRegression()\n",
    "logisticRegr.fit(X_train, y_train)\n",
    "y_pred = logisticRegr.predict(X_test)\n",
    "print(accuracy_score(y_test,y_pred)*100)"
   ]
  },
  {
   "cell_type": "code",
   "execution_count": 39,
   "metadata": {
    "_cell_guid": "2adf1de2-92f8-46cd-a819-c3d6691bad7c",
    "_uuid": "4dc22fc2f48d477c5486f2f905f1457e77eee1df"
   },
   "outputs": [],
   "source": [
    "df3 = pd.DataFrame({'id':y_test.index, 'cuisine':y_test.values})\n",
    "y_test2=[]\n",
    "y_test1=df3['cuisine'].tolist()\n",
    "for i in range(len(df3['cuisine'])):\n",
    "    y_test2.append(cuisine_map[str(df3['cuisine'][i])])\n",
    "#print(y_test2)"
   ]
  },
  {
   "cell_type": "code",
   "execution_count": 40,
   "metadata": {
    "_cell_guid": "04bfe31d-2f25-4639-8116-b6511bdc1e81",
    "_uuid": "04d7d61a800813501086379d9af5174199d4df12"
   },
   "outputs": [],
   "source": [
    "#Convert Predicted Output \n",
    "#_______ gives the best accuracy. So lets implement it on last time to get the final output.\n",
    "y_pred1=[]\n",
    "for i in range(len(y_pred)):\n",
    "    y_pred1.append(cuisine_map[str(y_pred[i])])\n",
    "#print(y_test2)"
   ]
  },
  {
   "cell_type": "code",
   "execution_count": 41,
   "metadata": {
    "_cell_guid": "9de8971e-7167-42bc-b7a8-8dbcae8d8f25",
    "_uuid": "a3178c78e24d4c96714556be87c1df6f3b68479a"
   },
   "outputs": [
    {
     "name": "stdout",
     "output_type": "stream",
     "text": [
      "78.88120678818353\n",
      "     Actual Cuisine Predicted Cuisine\n",
      "0           mexican           mexican\n",
      "1       southern_us       southern_us\n",
      "2           italian           italian\n",
      "3           mexican           mexican\n",
      "4          japanese          japanese\n",
      "...             ...               ...\n",
      "7950        italian           italian\n",
      "7951         indian            indian\n",
      "7952       jamaican          jamaican\n",
      "7953        mexican           mexican\n",
      "7954       japanese          japanese\n",
      "\n",
      "[7955 rows x 2 columns]\n"
     ]
    }
   ],
   "source": [
    "#We Choose OVA SVM as it gives the best accuracy of 78.88%\n",
    "\n",
    "lin_clf = svm.LinearSVC(C=1)\n",
    "lin_clf.fit(X_train, y_train)\n",
    "y_pred=lin_clf.predict(X_test)\n",
    "print(accuracy_score(y_test,y_pred)*100)\n",
    "result=pd.DataFrame({'Actual Cuisine':y_test2, 'Predicted Cuisine':y_test2})\n",
    "print(result)"
   ]
  },
  {
   "cell_type": "markdown",
   "metadata": {
    "_cell_guid": "3d02a3df-9393-4f36-8a0f-79d892c2dddf",
    "_uuid": "4799301aaf1a9dcbf7c59722fd3f0db46cbb8b1c"
   },
   "source": [
    "# Conclusion\n",
    "The OVA SVM Algorithm gives the best accuracy of 78.88% for the given dataset.\n",
    "\n",
    "|       Algorithm       |           Parameters           | Accuracy |\n",
    "|:----------------------|:------------------------------:|:--------:|\n",
    "|          KNN          |              K=25              |  74.81%  |\n",
    "|        OVA SVM        |              C=1               |  78.88%  |\n",
    "|      Crammer SVM      |C=1, multi_class=crammer_singer |  78.84%  |\n",
    "|    OVA Naive Bayes    |               -                |  66.71%  |\n",
    "|OVA Logistic Regression|               -                |  77.72%  |\n"
   ]
  },
  {
   "cell_type": "code",
   "execution_count": null,
   "metadata": {},
   "outputs": [],
   "source": []
  }
 ],
 "metadata": {
  "kernelspec": {
   "display_name": "Python 3",
   "language": "python",
   "name": "python3"
  },
  "language_info": {
   "codemirror_mode": {
    "name": "ipython",
    "version": 3
   },
   "file_extension": ".py",
   "mimetype": "text/x-python",
   "name": "python",
   "nbconvert_exporter": "python",
   "pygments_lexer": "ipython3",
   "version": "3.6.8"
  }
 },
 "nbformat": 4,
 "nbformat_minor": 4
}
